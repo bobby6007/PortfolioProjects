{
  "cells": [
    {
      "cell_type": "markdown",
      "metadata": {
        "id": "view-in-github",
        "colab_type": "text"
      },
      "source": [
        "<a href=\"https://colab.research.google.com/github/bobby6007/PortfolioProjects/blob/main/05_ml_07_LinerRegression.ipynb\" target=\"_parent\"><img src=\"https://colab.research.google.com/assets/colab-badge.svg\" alt=\"Open In Colab\"/></a>"
      ]
    },
    {
      "cell_type": "code",
      "execution_count": 1,
      "id": "ab1ca5d3",
      "metadata": {
        "colab": {
          "base_uri": "https://localhost:8080/"
        },
        "id": "ab1ca5d3",
        "outputId": "c5378a17-3b00-4c9e-b367-759b475afd66"
      },
      "outputs": [
        {
          "output_type": "stream",
          "name": "stdout",
          "text": [
            "\u001b[?25l\r\u001b[K     |████▊                           | 10 kB 23.4 MB/s eta 0:00:01\r\u001b[K     |█████████▌                      | 20 kB 19.7 MB/s eta 0:00:01\r\u001b[K     |██████████████▎                 | 30 kB 12.1 MB/s eta 0:00:01\r\u001b[K     |███████████████████             | 40 kB 4.8 MB/s eta 0:00:01\r\u001b[K     |███████████████████████▉        | 51 kB 4.7 MB/s eta 0:00:01\r\u001b[K     |████████████████████████████▋   | 61 kB 5.6 MB/s eta 0:00:01\r\u001b[K     |████████████████████████████████| 68 kB 3.2 MB/s \n",
            "\u001b[?25h  Building wheel for uuid (setup.py) ... \u001b[?25l\u001b[?25hdone\n"
          ]
        }
      ],
      "source": [
        "# Jovian Commit Essentials\n",
        "# Please retain and execute this cell without modifying the contents for `jovian.commit` to work\n",
        "!pip install jovian --upgrade -q\n",
        "import jovian\n",
        "jovian.set_project('05-ml-07-linerregression')\n",
        "jovian.set_colab_id('13jMmOF69Zua6ZOAaX6PCSimQOUcSzY7O')"
      ]
    },
    {
      "cell_type": "markdown",
      "id": "7154cc0a-aa4d-43f5-b1ef-40bc4aecf369",
      "metadata": {
        "id": "7154cc0a-aa4d-43f5-b1ef-40bc4aecf369"
      },
      "source": [
        "![Imgur](https://i.imgur.com/5pXzCIu.png)\n",
        "\n",
        "# Data Science va Sun'iy Intellekt Praktikum\n",
        "\n",
        "## 5-MODUL. Machine Learning. \n",
        "\n",
        "### Linear Regression"
      ]
    },
    {
      "cell_type": "code",
      "execution_count": 4,
      "id": "84bfdab2-9d2d-450e-8490-1ab72e912abf",
      "metadata": {
        "colab": {
          "base_uri": "https://localhost:8080/",
          "height": 1000
        },
        "id": "84bfdab2-9d2d-450e-8490-1ab72e912abf",
        "outputId": "6286b6c9-fc23-4dee-d6f6-caf1089ac3b7"
      },
      "outputs": [
        {
          "output_type": "execute_result",
          "data": {
            "text/plain": [
              "                                                         district  rooms  \\\n",
              "location                                                                   \n",
              "город Ташкент, Юнусабадский район, Юнусабад 8-й...   Юнусабадский      3   \n",
              "город Ташкент, Яккасарайский район, 1-й тупик Ш...  Яккасарайский      2   \n",
              "город Ташкент, Чиланзарский район, Чиланзар 2-й...   Чиланзарский      2   \n",
              "город Ташкент, Чиланзарский район, Чиланзар 9-й...   Чиланзарский      3   \n",
              "город Ташкент, Чиланзарский район, площадь Актепа    Чиланзарский      3   \n",
              "город Ташкент, Чиланзарский район, Чиланзар 6-й...   Чиланзарский      1   \n",
              "город Ташкент, Чиланзарский район, Чиланзар-16       Чиланзарский      1   \n",
              "город Ташкент, Яккасарайский район, Саламатина      Яккасарайский      2   \n",
              "город Ташкент, Учтепинский район, Чиланзар-21         Учтепинский      2   \n",
              "город Ташкент, Чиланзарский район, Чиланзар-8        Чиланзарский      1   \n",
              "\n",
              "                                                    size  level  max_levels  \\\n",
              "location                                                                      \n",
              "город Ташкент, Юнусабадский район, Юнусабад 8-й...    57      4           4   \n",
              "город Ташкент, Яккасарайский район, 1-й тупик Ш...    52      4           5   \n",
              "город Ташкент, Чиланзарский район, Чиланзар 2-й...    42      4           4   \n",
              "город Ташкент, Чиланзарский район, Чиланзар 9-й...    65      1           4   \n",
              "город Ташкент, Чиланзарский район, площадь Актепа     70      3           5   \n",
              "город Ташкент, Чиланзарский район, Чиланзар 6-й...    28      1           4   \n",
              "город Ташкент, Чиланзарский район, Чиланзар-16        30      2           4   \n",
              "город Ташкент, Яккасарайский район, Саламатина        32      5           5   \n",
              "город Ташкент, Учтепинский район, Чиланзар-21         51      3           4   \n",
              "город Ташкент, Чиланзарский район, Чиланзар-8         30      1           4   \n",
              "\n",
              "                                                    price  \n",
              "location                                                   \n",
              "город Ташкент, Юнусабадский район, Юнусабад 8-й...  52000  \n",
              "город Ташкент, Яккасарайский район, 1-й тупик Ш...  56000  \n",
              "город Ташкент, Чиланзарский район, Чиланзар 2-й...  37000  \n",
              "город Ташкент, Чиланзарский район, Чиланзар 9-й...  49500  \n",
              "город Ташкент, Чиланзарский район, площадь Актепа   55000  \n",
              "город Ташкент, Чиланзарский район, Чиланзар 6-й...  25500  \n",
              "город Ташкент, Чиланзарский район, Чиланзар-16      21200  \n",
              "город Ташкент, Яккасарайский район, Саламатина      20000  \n",
              "город Ташкент, Учтепинский район, Чиланзар-21       26200  \n",
              "город Ташкент, Чиланзарский район, Чиланзар-8       22200  "
            ],
            "text/html": [
              "\n",
              "  <div id=\"df-928d2f86-d710-4d9d-a5d2-45f76ae5f7d6\">\n",
              "    <div class=\"colab-df-container\">\n",
              "      <div>\n",
              "<style scoped>\n",
              "    .dataframe tbody tr th:only-of-type {\n",
              "        vertical-align: middle;\n",
              "    }\n",
              "\n",
              "    .dataframe tbody tr th {\n",
              "        vertical-align: top;\n",
              "    }\n",
              "\n",
              "    .dataframe thead th {\n",
              "        text-align: right;\n",
              "    }\n",
              "</style>\n",
              "<table border=\"1\" class=\"dataframe\">\n",
              "  <thead>\n",
              "    <tr style=\"text-align: right;\">\n",
              "      <th></th>\n",
              "      <th>district</th>\n",
              "      <th>rooms</th>\n",
              "      <th>size</th>\n",
              "      <th>level</th>\n",
              "      <th>max_levels</th>\n",
              "      <th>price</th>\n",
              "    </tr>\n",
              "    <tr>\n",
              "      <th>location</th>\n",
              "      <th></th>\n",
              "      <th></th>\n",
              "      <th></th>\n",
              "      <th></th>\n",
              "      <th></th>\n",
              "      <th></th>\n",
              "    </tr>\n",
              "  </thead>\n",
              "  <tbody>\n",
              "    <tr>\n",
              "      <th>город Ташкент, Юнусабадский район, Юнусабад 8-й квартал</th>\n",
              "      <td>Юнусабадский</td>\n",
              "      <td>3</td>\n",
              "      <td>57</td>\n",
              "      <td>4</td>\n",
              "      <td>4</td>\n",
              "      <td>52000</td>\n",
              "    </tr>\n",
              "    <tr>\n",
              "      <th>город Ташкент, Яккасарайский район, 1-й тупик Шота Руставели</th>\n",
              "      <td>Яккасарайский</td>\n",
              "      <td>2</td>\n",
              "      <td>52</td>\n",
              "      <td>4</td>\n",
              "      <td>5</td>\n",
              "      <td>56000</td>\n",
              "    </tr>\n",
              "    <tr>\n",
              "      <th>город Ташкент, Чиланзарский район, Чиланзар 2-й квартал</th>\n",
              "      <td>Чиланзарский</td>\n",
              "      <td>2</td>\n",
              "      <td>42</td>\n",
              "      <td>4</td>\n",
              "      <td>4</td>\n",
              "      <td>37000</td>\n",
              "    </tr>\n",
              "    <tr>\n",
              "      <th>город Ташкент, Чиланзарский район, Чиланзар 9-й квартал</th>\n",
              "      <td>Чиланзарский</td>\n",
              "      <td>3</td>\n",
              "      <td>65</td>\n",
              "      <td>1</td>\n",
              "      <td>4</td>\n",
              "      <td>49500</td>\n",
              "    </tr>\n",
              "    <tr>\n",
              "      <th>город Ташкент, Чиланзарский район, площадь Актепа</th>\n",
              "      <td>Чиланзарский</td>\n",
              "      <td>3</td>\n",
              "      <td>70</td>\n",
              "      <td>3</td>\n",
              "      <td>5</td>\n",
              "      <td>55000</td>\n",
              "    </tr>\n",
              "    <tr>\n",
              "      <th>город Ташкент, Чиланзарский район, Чиланзар 6-й квартал</th>\n",
              "      <td>Чиланзарский</td>\n",
              "      <td>1</td>\n",
              "      <td>28</td>\n",
              "      <td>1</td>\n",
              "      <td>4</td>\n",
              "      <td>25500</td>\n",
              "    </tr>\n",
              "    <tr>\n",
              "      <th>город Ташкент, Чиланзарский район, Чиланзар-16</th>\n",
              "      <td>Чиланзарский</td>\n",
              "      <td>1</td>\n",
              "      <td>30</td>\n",
              "      <td>2</td>\n",
              "      <td>4</td>\n",
              "      <td>21200</td>\n",
              "    </tr>\n",
              "    <tr>\n",
              "      <th>город Ташкент, Яккасарайский район, Саламатина</th>\n",
              "      <td>Яккасарайский</td>\n",
              "      <td>2</td>\n",
              "      <td>32</td>\n",
              "      <td>5</td>\n",
              "      <td>5</td>\n",
              "      <td>20000</td>\n",
              "    </tr>\n",
              "    <tr>\n",
              "      <th>город Ташкент, Учтепинский район, Чиланзар-21</th>\n",
              "      <td>Учтепинский</td>\n",
              "      <td>2</td>\n",
              "      <td>51</td>\n",
              "      <td>3</td>\n",
              "      <td>4</td>\n",
              "      <td>26200</td>\n",
              "    </tr>\n",
              "    <tr>\n",
              "      <th>город Ташкент, Чиланзарский район, Чиланзар-8</th>\n",
              "      <td>Чиланзарский</td>\n",
              "      <td>1</td>\n",
              "      <td>30</td>\n",
              "      <td>1</td>\n",
              "      <td>4</td>\n",
              "      <td>22200</td>\n",
              "    </tr>\n",
              "  </tbody>\n",
              "</table>\n",
              "</div>\n",
              "      <button class=\"colab-df-convert\" onclick=\"convertToInteractive('df-928d2f86-d710-4d9d-a5d2-45f76ae5f7d6')\"\n",
              "              title=\"Convert this dataframe to an interactive table.\"\n",
              "              style=\"display:none;\">\n",
              "        \n",
              "  <svg xmlns=\"http://www.w3.org/2000/svg\" height=\"24px\"viewBox=\"0 0 24 24\"\n",
              "       width=\"24px\">\n",
              "    <path d=\"M0 0h24v24H0V0z\" fill=\"none\"/>\n",
              "    <path d=\"M18.56 5.44l.94 2.06.94-2.06 2.06-.94-2.06-.94-.94-2.06-.94 2.06-2.06.94zm-11 1L8.5 8.5l.94-2.06 2.06-.94-2.06-.94L8.5 2.5l-.94 2.06-2.06.94zm10 10l.94 2.06.94-2.06 2.06-.94-2.06-.94-.94-2.06-.94 2.06-2.06.94z\"/><path d=\"M17.41 7.96l-1.37-1.37c-.4-.4-.92-.59-1.43-.59-.52 0-1.04.2-1.43.59L10.3 9.45l-7.72 7.72c-.78.78-.78 2.05 0 2.83L4 21.41c.39.39.9.59 1.41.59.51 0 1.02-.2 1.41-.59l7.78-7.78 2.81-2.81c.8-.78.8-2.07 0-2.86zM5.41 20L4 18.59l7.72-7.72 1.47 1.35L5.41 20z\"/>\n",
              "  </svg>\n",
              "      </button>\n",
              "      \n",
              "  <style>\n",
              "    .colab-df-container {\n",
              "      display:flex;\n",
              "      flex-wrap:wrap;\n",
              "      gap: 12px;\n",
              "    }\n",
              "\n",
              "    .colab-df-convert {\n",
              "      background-color: #E8F0FE;\n",
              "      border: none;\n",
              "      border-radius: 50%;\n",
              "      cursor: pointer;\n",
              "      display: none;\n",
              "      fill: #1967D2;\n",
              "      height: 32px;\n",
              "      padding: 0 0 0 0;\n",
              "      width: 32px;\n",
              "    }\n",
              "\n",
              "    .colab-df-convert:hover {\n",
              "      background-color: #E2EBFA;\n",
              "      box-shadow: 0px 1px 2px rgba(60, 64, 67, 0.3), 0px 1px 3px 1px rgba(60, 64, 67, 0.15);\n",
              "      fill: #174EA6;\n",
              "    }\n",
              "\n",
              "    [theme=dark] .colab-df-convert {\n",
              "      background-color: #3B4455;\n",
              "      fill: #D2E3FC;\n",
              "    }\n",
              "\n",
              "    [theme=dark] .colab-df-convert:hover {\n",
              "      background-color: #434B5C;\n",
              "      box-shadow: 0px 1px 3px 1px rgba(0, 0, 0, 0.15);\n",
              "      filter: drop-shadow(0px 1px 2px rgba(0, 0, 0, 0.3));\n",
              "      fill: #FFFFFF;\n",
              "    }\n",
              "  </style>\n",
              "\n",
              "      <script>\n",
              "        const buttonEl =\n",
              "          document.querySelector('#df-928d2f86-d710-4d9d-a5d2-45f76ae5f7d6 button.colab-df-convert');\n",
              "        buttonEl.style.display =\n",
              "          google.colab.kernel.accessAllowed ? 'block' : 'none';\n",
              "\n",
              "        async function convertToInteractive(key) {\n",
              "          const element = document.querySelector('#df-928d2f86-d710-4d9d-a5d2-45f76ae5f7d6');\n",
              "          const dataTable =\n",
              "            await google.colab.kernel.invokeFunction('convertToInteractive',\n",
              "                                                     [key], {});\n",
              "          if (!dataTable) return;\n",
              "\n",
              "          const docLinkHtml = 'Like what you see? Visit the ' +\n",
              "            '<a target=\"_blank\" href=https://colab.research.google.com/notebooks/data_table.ipynb>data table notebook</a>'\n",
              "            + ' to learn more about interactive tables.';\n",
              "          element.innerHTML = '';\n",
              "          dataTable['output_type'] = 'display_data';\n",
              "          await google.colab.output.renderOutput(dataTable, element);\n",
              "          const docLink = document.createElement('div');\n",
              "          docLink.innerHTML = docLinkHtml;\n",
              "          element.appendChild(docLink);\n",
              "        }\n",
              "      </script>\n",
              "    </div>\n",
              "  </div>\n",
              "  "
            ]
          },
          "metadata": {},
          "execution_count": 4
        }
      ],
      "source": [
        "import pandas as pd\n",
        "df = pd.read_csv('/content/cleaned_tashkent_housing', index_col=0)\n",
        "df.head(10)"
      ]
    },
    {
      "cell_type": "markdown",
      "id": "cd004a7d-846f-4f4a-9a4c-9d5ce65ba3e9",
      "metadata": {
        "id": "cd004a7d-846f-4f4a-9a4c-9d5ce65ba3e9"
      },
      "source": [
        "# Ustunlar ta'rifi\n",
        "- `location` - sotilayotgan uy manzili\n",
        "- `district` - uy joylashgan tuman\n",
        "- `rooms` - xonalar soni\n",
        "- `size` - uy maydoni (kv.m)\n",
        "- `level` - uy"
      ]
    },
    {
      "cell_type": "code",
      "execution_count": 5,
      "id": "fdfd182e-e0fd-412d-98c9-d8fb3d76833c",
      "metadata": {
        "colab": {
          "base_uri": "https://localhost:8080/"
        },
        "id": "fdfd182e-e0fd-412d-98c9-d8fb3d76833c",
        "outputId": "c270272f-15a8-4d9a-9f06-08c219ae8384"
      },
      "outputs": [
        {
          "output_type": "execute_result",
          "data": {
            "text/plain": [
              "Чиланзарский         1627\n",
              "Мирзо-Улугбекский    1359\n",
              "Учтепинский           870\n",
              "Юнусабадский          859\n",
              "Мирабадский           755\n",
              "Яккасарайский         642\n",
              "Яшнободский           460\n",
              "Шайхантахурский       363\n",
              "Олмазорский           264\n",
              "Сергелийский          158\n",
              "Янгихаётский           14\n",
              "Бектемирский            8\n",
              "Name: district, dtype: int64"
            ]
          },
          "metadata": {},
          "execution_count": 5
        }
      ],
      "source": [
        "df['district'].value_counts()"
      ]
    },
    {
      "cell_type": "markdown",
      "id": "a0811ab4-f241-4214-87a1-df3ae02cd6c5",
      "metadata": {
        "id": "a0811ab4-f241-4214-87a1-df3ae02cd6c5"
      },
      "source": [
        "**Darsimiz uchun Chilonzor tumanidagi uylarning narxini bashorat qilib ko'ramiz**"
      ]
    },
    {
      "cell_type": "code",
      "execution_count": 6,
      "id": "c54fde41-aead-4e9c-948b-5765763ee60f",
      "metadata": {
        "colab": {
          "base_uri": "https://localhost:8080/",
          "height": 949
        },
        "id": "c54fde41-aead-4e9c-948b-5765763ee60f",
        "outputId": "50ab65b3-f4cc-4792-e6bc-5e3a84e223cc"
      },
      "outputs": [
        {
          "output_type": "execute_result",
          "data": {
            "text/plain": [
              "                                                        district  rooms  size  \\\n",
              "location                                                                        \n",
              "город Ташкент, Чиланзарский район, Чиланзар 2-й...  Чиланзарский      2    42   \n",
              "город Ташкент, Чиланзарский район, Чиланзар 9-й...  Чиланзарский      3    65   \n",
              "город Ташкент, Чиланзарский район, площадь Актепа   Чиланзарский      3    70   \n",
              "город Ташкент, Чиланзарский район, Чиланзар 6-й...  Чиланзарский      1    28   \n",
              "город Ташкент, Чиланзарский район, Чиланзар-16      Чиланзарский      1    30   \n",
              "\n",
              "                                                    level  max_levels  price  \n",
              "location                                                                      \n",
              "город Ташкент, Чиланзарский район, Чиланзар 2-й...      4           4  37000  \n",
              "город Ташкент, Чиланзарский район, Чиланзар 9-й...      1           4  49500  \n",
              "город Ташкент, Чиланзарский район, площадь Актепа       3           5  55000  \n",
              "город Ташкент, Чиланзарский район, Чиланзар 6-й...      1           4  25500  \n",
              "город Ташкент, Чиланзарский район, Чиланзар-16          2           4  21200  "
            ],
            "text/html": [
              "\n",
              "  <div id=\"df-0d57877c-0ed0-4d12-93b8-59bfe6a6206f\">\n",
              "    <div class=\"colab-df-container\">\n",
              "      <div>\n",
              "<style scoped>\n",
              "    .dataframe tbody tr th:only-of-type {\n",
              "        vertical-align: middle;\n",
              "    }\n",
              "\n",
              "    .dataframe tbody tr th {\n",
              "        vertical-align: top;\n",
              "    }\n",
              "\n",
              "    .dataframe thead th {\n",
              "        text-align: right;\n",
              "    }\n",
              "</style>\n",
              "<table border=\"1\" class=\"dataframe\">\n",
              "  <thead>\n",
              "    <tr style=\"text-align: right;\">\n",
              "      <th></th>\n",
              "      <th>district</th>\n",
              "      <th>rooms</th>\n",
              "      <th>size</th>\n",
              "      <th>level</th>\n",
              "      <th>max_levels</th>\n",
              "      <th>price</th>\n",
              "    </tr>\n",
              "    <tr>\n",
              "      <th>location</th>\n",
              "      <th></th>\n",
              "      <th></th>\n",
              "      <th></th>\n",
              "      <th></th>\n",
              "      <th></th>\n",
              "      <th></th>\n",
              "    </tr>\n",
              "  </thead>\n",
              "  <tbody>\n",
              "    <tr>\n",
              "      <th>город Ташкент, Чиланзарский район, Чиланзар 2-й квартал</th>\n",
              "      <td>Чиланзарский</td>\n",
              "      <td>2</td>\n",
              "      <td>42</td>\n",
              "      <td>4</td>\n",
              "      <td>4</td>\n",
              "      <td>37000</td>\n",
              "    </tr>\n",
              "    <tr>\n",
              "      <th>город Ташкент, Чиланзарский район, Чиланзар 9-й квартал</th>\n",
              "      <td>Чиланзарский</td>\n",
              "      <td>3</td>\n",
              "      <td>65</td>\n",
              "      <td>1</td>\n",
              "      <td>4</td>\n",
              "      <td>49500</td>\n",
              "    </tr>\n",
              "    <tr>\n",
              "      <th>город Ташкент, Чиланзарский район, площадь Актепа</th>\n",
              "      <td>Чиланзарский</td>\n",
              "      <td>3</td>\n",
              "      <td>70</td>\n",
              "      <td>3</td>\n",
              "      <td>5</td>\n",
              "      <td>55000</td>\n",
              "    </tr>\n",
              "    <tr>\n",
              "      <th>город Ташкент, Чиланзарский район, Чиланзар 6-й квартал</th>\n",
              "      <td>Чиланзарский</td>\n",
              "      <td>1</td>\n",
              "      <td>28</td>\n",
              "      <td>1</td>\n",
              "      <td>4</td>\n",
              "      <td>25500</td>\n",
              "    </tr>\n",
              "    <tr>\n",
              "      <th>город Ташкент, Чиланзарский район, Чиланзар-16</th>\n",
              "      <td>Чиланзарский</td>\n",
              "      <td>1</td>\n",
              "      <td>30</td>\n",
              "      <td>2</td>\n",
              "      <td>4</td>\n",
              "      <td>21200</td>\n",
              "    </tr>\n",
              "  </tbody>\n",
              "</table>\n",
              "</div>\n",
              "      <button class=\"colab-df-convert\" onclick=\"convertToInteractive('df-0d57877c-0ed0-4d12-93b8-59bfe6a6206f')\"\n",
              "              title=\"Convert this dataframe to an interactive table.\"\n",
              "              style=\"display:none;\">\n",
              "        \n",
              "  <svg xmlns=\"http://www.w3.org/2000/svg\" height=\"24px\"viewBox=\"0 0 24 24\"\n",
              "       width=\"24px\">\n",
              "    <path d=\"M0 0h24v24H0V0z\" fill=\"none\"/>\n",
              "    <path d=\"M18.56 5.44l.94 2.06.94-2.06 2.06-.94-2.06-.94-.94-2.06-.94 2.06-2.06.94zm-11 1L8.5 8.5l.94-2.06 2.06-.94-2.06-.94L8.5 2.5l-.94 2.06-2.06.94zm10 10l.94 2.06.94-2.06 2.06-.94-2.06-.94-.94-2.06-.94 2.06-2.06.94z\"/><path d=\"M17.41 7.96l-1.37-1.37c-.4-.4-.92-.59-1.43-.59-.52 0-1.04.2-1.43.59L10.3 9.45l-7.72 7.72c-.78.78-.78 2.05 0 2.83L4 21.41c.39.39.9.59 1.41.59.51 0 1.02-.2 1.41-.59l7.78-7.78 2.81-2.81c.8-.78.8-2.07 0-2.86zM5.41 20L4 18.59l7.72-7.72 1.47 1.35L5.41 20z\"/>\n",
              "  </svg>\n",
              "      </button>\n",
              "      \n",
              "  <style>\n",
              "    .colab-df-container {\n",
              "      display:flex;\n",
              "      flex-wrap:wrap;\n",
              "      gap: 12px;\n",
              "    }\n",
              "\n",
              "    .colab-df-convert {\n",
              "      background-color: #E8F0FE;\n",
              "      border: none;\n",
              "      border-radius: 50%;\n",
              "      cursor: pointer;\n",
              "      display: none;\n",
              "      fill: #1967D2;\n",
              "      height: 32px;\n",
              "      padding: 0 0 0 0;\n",
              "      width: 32px;\n",
              "    }\n",
              "\n",
              "    .colab-df-convert:hover {\n",
              "      background-color: #E2EBFA;\n",
              "      box-shadow: 0px 1px 2px rgba(60, 64, 67, 0.3), 0px 1px 3px 1px rgba(60, 64, 67, 0.15);\n",
              "      fill: #174EA6;\n",
              "    }\n",
              "\n",
              "    [theme=dark] .colab-df-convert {\n",
              "      background-color: #3B4455;\n",
              "      fill: #D2E3FC;\n",
              "    }\n",
              "\n",
              "    [theme=dark] .colab-df-convert:hover {\n",
              "      background-color: #434B5C;\n",
              "      box-shadow: 0px 1px 3px 1px rgba(0, 0, 0, 0.15);\n",
              "      filter: drop-shadow(0px 1px 2px rgba(0, 0, 0, 0.3));\n",
              "      fill: #FFFFFF;\n",
              "    }\n",
              "  </style>\n",
              "\n",
              "      <script>\n",
              "        const buttonEl =\n",
              "          document.querySelector('#df-0d57877c-0ed0-4d12-93b8-59bfe6a6206f button.colab-df-convert');\n",
              "        buttonEl.style.display =\n",
              "          google.colab.kernel.accessAllowed ? 'block' : 'none';\n",
              "\n",
              "        async function convertToInteractive(key) {\n",
              "          const element = document.querySelector('#df-0d57877c-0ed0-4d12-93b8-59bfe6a6206f');\n",
              "          const dataTable =\n",
              "            await google.colab.kernel.invokeFunction('convertToInteractive',\n",
              "                                                     [key], {});\n",
              "          if (!dataTable) return;\n",
              "\n",
              "          const docLinkHtml = 'Like what you see? Visit the ' +\n",
              "            '<a target=\"_blank\" href=https://colab.research.google.com/notebooks/data_table.ipynb>data table notebook</a>'\n",
              "            + ' to learn more about interactive tables.';\n",
              "          element.innerHTML = '';\n",
              "          dataTable['output_type'] = 'display_data';\n",
              "          await google.colab.output.renderOutput(dataTable, element);\n",
              "          const docLink = document.createElement('div');\n",
              "          docLink.innerHTML = docLinkHtml;\n",
              "          element.appendChild(docLink);\n",
              "        }\n",
              "      </script>\n",
              "    </div>\n",
              "  </div>\n",
              "  "
            ]
          },
          "metadata": {},
          "execution_count": 6
        }
      ],
      "source": [
        "housing = df[df.district=='Чиланзарский']\n",
        "housing.head()"
      ]
    },
    {
      "cell_type": "code",
      "execution_count": 7,
      "id": "f65fd3c7-fea1-4e62-b514-8962e7b8e7ce",
      "metadata": {
        "colab": {
          "base_uri": "https://localhost:8080/"
        },
        "id": "f65fd3c7-fea1-4e62-b514-8962e7b8e7ce",
        "outputId": "0c5b5d39-b274-4f26-c36d-28978e8a7386"
      },
      "outputs": [
        {
          "output_type": "execute_result",
          "data": {
            "text/plain": [
              "location\n",
              "город Ташкент, Чиланзарский район, Чиланзар 2-й квартал    42\n",
              "город Ташкент, Чиланзарский район, Чиланзар 9-й квартал    65\n",
              "город Ташкент, Чиланзарский район, площадь Актепа          70\n",
              "город Ташкент, Чиланзарский район, Чиланзар 6-й квартал    28\n",
              "город Ташкент, Чиланзарский район, Чиланзар-16             30\n",
              "                                                           ..\n",
              "город Ташкент, Чиланзарский район, Мукими                  70\n",
              "город Ташкент, Чиланзарский район, проспект Бунёдкор       20\n",
              "город Ташкент, Чиланзарский район, Чиланзар 1 квартал      32\n",
              "город Ташкент, Чиланзарский район, Чиланзар-16             70\n",
              "город Ташкент, Чиланзарский район, Чиланзар 6-й квартал    30\n",
              "Name: size, Length: 1627, dtype: int64"
            ]
          },
          "metadata": {},
          "execution_count": 7
        }
      ],
      "source": [
        "X = housing['size']\n",
        "X"
      ]
    },
    {
      "cell_type": "code",
      "execution_count": 8,
      "id": "94126c82-8be2-4b98-bbe6-4ae49934aa9f",
      "metadata": {
        "colab": {
          "base_uri": "https://localhost:8080/"
        },
        "id": "94126c82-8be2-4b98-bbe6-4ae49934aa9f",
        "outputId": "7c273ee9-57f0-42e0-802a-5f91aee172bc"
      },
      "outputs": [
        {
          "output_type": "execute_result",
          "data": {
            "text/plain": [
              "location\n",
              "город Ташкент, Чиланзарский район, Чиланзар 2-й квартал    37000\n",
              "город Ташкент, Чиланзарский район, Чиланзар 9-й квартал    49500\n",
              "город Ташкент, Чиланзарский район, площадь Актепа          55000\n",
              "город Ташкент, Чиланзарский район, Чиланзар 6-й квартал    25500\n",
              "город Ташкент, Чиланзарский район, Чиланзар-16             21200\n",
              "                                                           ...  \n",
              "город Ташкент, Чиланзарский район, Мукими                  48000\n",
              "город Ташкент, Чиланзарский район, проспект Бунёдкор       18500\n",
              "город Ташкент, Чиланзарский район, Чиланзар 1 квартал      28000\n",
              "город Ташкент, Чиланзарский район, Чиланзар-16             49800\n",
              "город Ташкент, Чиланзарский район, Чиланзар 6-й квартал    22914\n",
              "Name: price, Length: 1627, dtype: int64"
            ]
          },
          "metadata": {},
          "execution_count": 8
        }
      ],
      "source": [
        "y = housing['price']\n",
        "y"
      ]
    },
    {
      "cell_type": "markdown",
      "id": "7bcc2e9e-cd49-429e-9edc-62b42bcf52b3",
      "metadata": {
        "id": "7bcc2e9e-cd49-429e-9edc-62b42bcf52b3"
      },
      "source": [
        "**Narx va uy maydoni o'rtasida chiziqli bog'liqlik bor ekanini tekshirib ko'ramiz.**"
      ]
    },
    {
      "cell_type": "code",
      "execution_count": 21,
      "id": "7b447da1-3715-4c21-bc65-02ce3ee226c1",
      "metadata": {
        "id": "7b447da1-3715-4c21-bc65-02ce3ee226c1"
      },
      "outputs": [],
      "source": [
        "import matplotlib.pyplot as plt\n",
        "import seaborn as sns\n",
        "import numpy as np\n",
        "%matplotlib inline"
      ]
    },
    {
      "cell_type": "code",
      "execution_count": 10,
      "id": "b3892c14-8b0a-40a3-bf96-487408787386",
      "metadata": {
        "colab": {
          "base_uri": "https://localhost:8080/",
          "height": 383
        },
        "id": "b3892c14-8b0a-40a3-bf96-487408787386",
        "outputId": "6e18decc-6998-4e41-ecc6-683621843367"
      },
      "outputs": [
        {
          "output_type": "display_data",
          "data": {
            "text/plain": [
              "<Figure size 720x432 with 1 Axes>"
            ],
            "image/png": "[encoded data removed]"
          },
          "metadata": {
            "needs_background": "light"
          }
        }
      ],
      "source": [
        "plt.figure(figsize=(10,6))\n",
        "sns.scatterplot(data=housing, x='size', y='price')\n",
        "plt.show()"
      ]
    },
    {
      "cell_type": "code",
      "execution_count": 11,
      "id": "36b7afbb-4e03-4c34-ac86-de677141afc1",
      "metadata": {
        "colab": {
          "base_uri": "https://localhost:8080/",
          "height": 383
        },
        "id": "36b7afbb-4e03-4c34-ac86-de677141afc1",
        "outputId": "e2584d16-a216-466b-ee5d-93d1ea39b0e0"
      },
      "outputs": [
        {
          "output_type": "display_data",
          "data": {
            "text/plain": [
              "<Figure size 720x432 with 1 Axes>"
            ],
            "image/png": "[encoded data removed]"
          },
          "metadata": {
            "needs_background": "light"
          }
        }
      ],
      "source": [
        "plt.figure(figsize=(10,6))\n",
        "sns.regplot(data=housing, x='size', y='price', line_kws={\"color\": \"red\"})\n",
        "plt.show()"
      ]
    },
    {
      "cell_type": "markdown",
      "id": "8654473f-7b86-4bfb-8ff0-ad10099f472e",
      "metadata": {
        "id": "8654473f-7b86-4bfb-8ff0-ad10099f472e"
      },
      "source": [
        "## 1-Vazifa\n",
        "Sizning vazifangiz yuqoridagi `X` va `y` o'zgaruvchilardan quyidagi formuladan foydalangan xolda $\\theta_0$ va $\\theta_1$ koeffisientlarni hisoblash.\n",
        "\n",
        "![Imgur](https://i.imgur.com/zZoXZxI.png)\n",
        "\n",
        "Bu yerda $\\tilde{x}$ - `X` ustun uchun o'rtracha qiymat,  $\\tilde{y}$ - `y` ustun uchun o'rtracha qiymat"
      ]
    },
    {
      "cell_type": "code",
      "execution_count": 27,
      "id": "e4d146e8-1d8d-4de2-aa69-0af19f9c42fc",
      "metadata": {
        "id": "e4d146e8-1d8d-4de2-aa69-0af19f9c42fc"
      },
      "outputs": [],
      "source": [
        "Xmean = np.mean(X)\n",
        "ymean = np.mean(y)"
      ]
    },
    {
      "cell_type": "code",
      "source": [
        "theta1 = sum((X-Xmean)*(y-ymean))/sum((X-Xmean)**2)\n",
        "theta1"
      ],
      "metadata": {
        "colab": {
          "base_uri": "https://localhost:8080/"
        },
        "id": "KzhzeNWvTtHd",
        "outputId": "e9bcf97d-ddb6-4412-a5de-3b824d001455"
      },
      "id": "KzhzeNWvTtHd",
      "execution_count": 30,
      "outputs": [
        {
          "output_type": "execute_result",
          "data": {
            "text/plain": [
              "825.2519172433614"
            ]
          },
          "metadata": {},
          "execution_count": 30
        }
      ]
    },
    {
      "cell_type": "code",
      "source": [
        "theta0=(ymean-(theta1*Xmean))\n",
        "theta0"
      ],
      "metadata": {
        "colab": {
          "base_uri": "https://localhost:8080/"
        },
        "id": "g-7jeV30TtKY",
        "outputId": "5c252eed-73fd-4163-dede-8b8a4a4cac75"
      },
      "id": "g-7jeV30TtKY",
      "execution_count": 32,
      "outputs": [
        {
          "output_type": "execute_result",
          "data": {
            "text/plain": [
              "-4567.233213984473"
            ]
          },
          "metadata": {},
          "execution_count": 32
        }
      ]
    },
    {
      "cell_type": "code",
      "source": [
        ""
      ],
      "metadata": {
        "id": "HDERtGUqTtNC"
      },
      "id": "HDERtGUqTtNC",
      "execution_count": null,
      "outputs": []
    },
    {
      "cell_type": "code",
      "source": [
        ""
      ],
      "metadata": {
        "id": "3YzfP5-GTtPe"
      },
      "id": "3YzfP5-GTtPe",
      "execution_count": null,
      "outputs": []
    },
    {
      "cell_type": "code",
      "source": [
        ""
      ],
      "metadata": {
        "id": "qI8jBrf9TtRw"
      },
      "id": "qI8jBrf9TtRw",
      "execution_count": null,
      "outputs": []
    },
    {
      "cell_type": "code",
      "source": [
        ""
      ],
      "metadata": {
        "id": "pIssaK98TtUN"
      },
      "id": "pIssaK98TtUN",
      "execution_count": null,
      "outputs": []
    },
    {
      "cell_type": "code",
      "source": [
        ""
      ],
      "metadata": {
        "id": "aMIK8cI2TtW2"
      },
      "id": "aMIK8cI2TtW2",
      "execution_count": null,
      "outputs": []
    },
    {
      "cell_type": "markdown",
      "id": "72486449-3955-4d88-9c2a-0f893a2aa6b5",
      "metadata": {
        "id": "72486449-3955-4d88-9c2a-0f893a2aa6b5"
      },
      "source": [
        "## 2-Vazifa\n",
        "`X` dan bir nechta tasodifiy qiymatlarni ajratib oling va ularga mos keluvchi `y` ni yuqoridagi koeffisientlar yordamida hisoblab ko'ring.\n",
        "\n",
        "![Imgur](https://i.imgur.com/iT5tffj.png)"
      ]
    },
    {
      "cell_type": "code",
      "execution_count": 35,
      "id": "77d7e635-6d95-4e8b-88f1-31b4aa533df4",
      "metadata": {
        "colab": {
          "base_uri": "https://localhost:8080/"
        },
        "id": "77d7e635-6d95-4e8b-88f1-31b4aa533df4",
        "outputId": "02b6384c-1fd4-4cc8-8a74-f774129f2df2"
      },
      "outputs": [
        {
          "output_type": "stream",
          "name": "stdout",
          "text": [
            "[ 48 105  70  65  28  60  50  50  50  66] [32500 60000 47000 54000 30000 52500 33500 36000 33000 50500]\n"
          ]
        }
      ],
      "source": [
        "x_test = housing.sample(10, random_state=42)['size'].to_numpy()\n",
        "y_test = housing.sample(10, random_state=42)['price'].to_numpy()\n",
        "print(x_test, y_test)"
      ]
    },
    {
      "cell_type": "code",
      "source": [
        "y_predict = (theta0+(theta1*x_test))\n",
        "y_predict"
      ],
      "metadata": {
        "colab": {
          "base_uri": "https://localhost:8080/"
        },
        "id": "L7QxfBO6XDJr",
        "outputId": "4661352a-e0ff-4a39-fb4d-1ca037698383"
      },
      "id": "L7QxfBO6XDJr",
      "execution_count": 36,
      "outputs": [
        {
          "output_type": "execute_result",
          "data": {
            "text/plain": [
              "array([35044.8588137 , 82084.21809657, 53200.40099305, 49074.14140683,\n",
              "       18539.82046883, 44947.88182062, 36695.36264818, 36695.36264818,\n",
              "       36695.36264818, 49899.39332408])"
            ]
          },
          "metadata": {},
          "execution_count": 36
        }
      ]
    },
    {
      "cell_type": "markdown",
      "id": "e62395a5-6d5d-49e4-b5ca-ef6375fa93e8",
      "metadata": {
        "id": "e62395a5-6d5d-49e4-b5ca-ef6375fa93e8"
      },
      "source": [
        "## 3-Vazifa\n",
        "\n",
        "Hisoblangan va asl qiymtlar o'rtasidagi RMSE (root mean square error), MAE (mean absolute error) hisoblang.\n",
        "\n",
        "![Imgur](https://i.imgur.com/GJH9CGy.png)\n",
        "\n",
        "![Imgur](https://i.imgur.com/aXL9iWa.png)"
      ]
    },
    {
      "cell_type": "code",
      "execution_count": 37,
      "id": "ccc48a76-6efc-4c98-a12f-300f8a1bdaae",
      "metadata": {
        "colab": {
          "base_uri": "https://localhost:8080/"
        },
        "id": "ccc48a76-6efc-4c98-a12f-300f8a1bdaae",
        "outputId": "916c925c-1071-4b2f-fa58-3eb21f3b4691"
      },
      "outputs": [
        {
          "output_type": "execute_result",
          "data": {
            "text/plain": [
              "6295.4328827508725"
            ]
          },
          "metadata": {},
          "execution_count": 37
        }
      ],
      "source": [
        "mae = np.sum(np.absolute(y_predict-y_test))/len(y_test)\n",
        "mae"
      ]
    },
    {
      "cell_type": "code",
      "source": [
        "rmse = np.sqrt(np.sum((y_predict-y_test)**2)/len(y_test))\n",
        "rmse"
      ],
      "metadata": {
        "colab": {
          "base_uri": "https://localhost:8080/"
        },
        "id": "GMRBrTFiX0bx",
        "outputId": "22f5e4b5-a184-47ca-82f8-ebb9dc74f4e0"
      },
      "id": "GMRBrTFiX0bx",
      "execution_count": 38,
      "outputs": [
        {
          "output_type": "execute_result",
          "data": {
            "text/plain": [
              "8774.842219103517"
            ]
          },
          "metadata": {},
          "execution_count": 38
        }
      ]
    },
    {
      "cell_type": "code",
      "source": [
        ""
      ],
      "metadata": {
        "id": "wXYwTo93X_3T"
      },
      "id": "wXYwTo93X_3T",
      "execution_count": null,
      "outputs": []
    }
  ],
  "metadata": {
    "kernelspec": {
      "display_name": "Python 3",
      "language": "python",
      "name": "python3"
    },
    "language_info": {
      "codemirror_mode": {
        "name": "ipython",
        "version": 3
      },
      "file_extension": ".py",
      "mimetype": "text/x-python",
      "name": "python",
      "nbconvert_exporter": "python",
      "pygments_lexer": "ipython3",
      "version": "3.8.8"
    },
    "colab": {
      "name": "05-ml-07-LinerRegression.ipynb",
      "provenance": [],
      "toc_visible": true,
      "include_colab_link": true
    }
  },
  "nbformat": 4,
  "nbformat_minor": 5
}